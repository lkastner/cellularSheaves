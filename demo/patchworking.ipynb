{
 "cells": [
  {
   "cell_type": "code",
   "execution_count": null,
   "metadata": {},
   "outputs": [],
   "source": [
    "application \"tropical\";"
   ]
  },
  {
   "cell_type": "code",
   "execution_count": null,
   "metadata": {},
   "outputs": [],
   "source": [
    "sub harnack_curve_tmp {\n",
    "  my $n = shift;\n",
    "  my @monoms;\n",
    "  my @weights;\n",
    "  my @signs;\n",
    "  foreach my $i (0 .. $n) {\n",
    "    foreach my $j (0 .. $n-$i) {\n",
    "      push @weights, ($i*$j+$i*$i+$j*$j);\n",
    "      push @monoms, [$n-$i-$j, $i, $j];\n",
    "      push @signs, ($i*$j+$i+$j)%2;\n",
    "    }\n",
    "  }\n",
    "\n",
    "  my $m = new Matrix<Int>(\\@monoms);\n",
    "  my $c = new Vector<TropicalNumber<Min>>(\\@weights);\n",
    "  my $s = new Array<Bool>(\\@signs);\n",
    "  my $h = new Hypersurface<Min>(MONOMIALS=>$m, COEFFICIENTS=>$c);\n",
    "  $h->PATCHWORK(SIGNS=>$s);\n",
    "  return $h;\n",
    "}"
   ]
  },
  {
   "cell_type": "code",
   "execution_count": null,
   "metadata": {},
   "outputs": [],
   "source": [
    "$h = harnack_curve_tmp(5);"
   ]
  },
  {
   "cell_type": "code",
   "execution_count": null,
   "metadata": {},
   "outputs": [],
   "source": [
    "$h->properties;"
   ]
  },
  {
   "cell_type": "code",
   "execution_count": null,
   "metadata": {},
   "outputs": [],
   "source": [
    "$comp = $h->COMPACTIFICATION;"
   ]
  },
  {
   "cell_type": "code",
   "execution_count": null,
   "metadata": {},
   "outputs": [],
   "source": [
    "$rf = $h->PATCHWORK->REAL_FACETS;"
   ]
  },
  {
   "cell_type": "code",
   "execution_count": null,
   "metadata": {},
   "outputs": [],
   "source": [
    "print $rf;"
   ]
  },
  {
   "cell_type": "code",
   "execution_count": null,
   "metadata": {},
   "outputs": [],
   "source": [
    "print rows_labeled($h->MAXIMAL_POLYTOPES);"
   ]
  },
  {
   "cell_type": "code",
   "execution_count": null,
   "metadata": {},
   "outputs": [],
   "source": [
    "print rows_labeled($h->COMPACTIFICATION->DECORATION);"
   ]
  },
  {
   "cell_type": "code",
   "execution_count": null,
   "metadata": {},
   "outputs": [],
   "source": [
    "print $comp->nodes_of_rank(2)->size();"
   ]
  },
  {
   "cell_type": "code",
   "execution_count": null,
   "metadata": {},
   "outputs": [],
   "source": [
    "$decor = $comp->DECORATION;\n",
    "$facets = $h->MAXIMAL_POLYTOPES;\n",
    "$real_facets = $h->PATCHWORK->REAL_FACETS;\n",
    "$nm = new NodeMap<Directed, Set<Int>>($comp->ADJACENCY);\n",
    "foreach my $node (@{$comp->nodes_of_rank(2)}){\n",
    "    my $real = $decor->[$node]->realisation;\n",
    "    # Only works since the thing is pure\n",
    "    my $facetno = -1;\n",
    "    for(my $i=0; $i<$facets->rows; $i++){\n",
    "        if($facets->[$i] == $real){\n",
    "            $facetno = $i;\n",
    "            last;\n",
    "        }\n",
    "    }\n",
    "    print $node,\" \",$real,\" \",$facetno,\": \";\n",
    "\n",
    "    for(my $i = 0; $i<$real_facets->rows; $i++){\n",
    "        if($real_facets->[$i]->contains($facetno)){\n",
    "            print $i,\",\";\n",
    "            $nm->[$node] += $i;\n",
    "        }\n",
    "    }\n",
    "    print \"\\n\";\n",
    "    \n",
    "}"
   ]
  },
  {
   "cell_type": "code",
   "execution_count": null,
   "metadata": {},
   "outputs": [],
   "source": [
    "foreach my $node (@{$comp->nodes_of_rank(1)}){\n",
    "    # print $comp->ADJACENCY->out_adjacent_nodes($node),\"\\n\";\n",
    "    foreach my $parent (@{$comp->ADJACENCY->out_adjacent_nodes($node)}){\n",
    "        $nm->[$node] += $nm->[$parent];\n",
    "    }\n",
    "}\n",
    "foreach my $node (@{$comp->nodes_of_rank(0)}){\n",
    "    # print $comp->ADJACENCY->out_adjacent_nodes($node),\"\\n\";\n",
    "    foreach my $parent (@{$comp->ADJACENCY->out_adjacent_nodes($node)}){\n",
    "        $nm->[$node] += $nm->[$parent];\n",
    "    }\n",
    "}"
   ]
  },
  {
   "cell_type": "code",
   "execution_count": null,
   "metadata": {},
   "outputs": [],
   "source": [
    "$em = new EdgeMap<Directed, Matrix<GF2>>($comp->ADJACENCY);"
   ]
  },
  {
   "cell_type": "code",
   "execution_count": null,
   "metadata": {},
   "outputs": [],
   "source": [
    "sub make_matrix {\n",
    "    my($source, $target) = @_;\n",
    "    # print \"S: \",$source,\"T: \",$target,\"\\n\";\n",
    "    my $result = unit_matrix<GF2>($source->size());\n",
    "    my $remaps = new Set<Int>();\n",
    "    my $remapt = new Set<Int>();\n",
    "    my $i = 0;\n",
    "    foreach my $s (@$source){\n",
    "        $remaps += $i;\n",
    "        if($target->contains($s)){\n",
    "            $remapt += $i;\n",
    "        }\n",
    "        $i++;\n",
    "    }\n",
    "    return $result->minor($remapt, $remaps);\n",
    "}"
   ]
  },
  {
   "cell_type": "code",
   "execution_count": null,
   "metadata": {},
   "outputs": [],
   "source": [
    "for (my $e=entire(edges($comp->ADJACENCY)); $e; ++$e) {\n",
    "    $em->[$$e] = make_matrix($nm->[$e->from_node], $nm->[$e->to_node]);\n",
    "}"
   ]
  },
  {
   "cell_type": "code",
   "execution_count": null,
   "metadata": {},
   "outputs": [],
   "source": [
    "print $comp->TOP_NODE;"
   ]
  },
  {
   "cell_type": "code",
   "execution_count": null,
   "metadata": {},
   "outputs": [],
   "source": [
    "$top = $comp->TOP_NODE;\n",
    "foreach my $node (@{$comp->ADJACENCY->in_adjacent_nodes($top)}){\n",
    "    $em->edge($node, $top) = zero_matrix<GF2>($nm->[$node]->size(),0);\n",
    "}"
   ]
  },
  {
   "cell_type": "code",
   "execution_count": null,
   "metadata": {},
   "outputs": [],
   "source": [
    "$Polymake::User::Verbose::cpp = 1;\n",
    "$chain = fan::build_full_chain($comp, $comp->ORIENTATIONS, $em, true);"
   ]
  },
  {
   "cell_type": "code",
   "execution_count": null,
   "metadata": {},
   "outputs": [],
   "source": [
    "print $comp->ORIENTATIONS;"
   ]
  },
  {
   "cell_type": "code",
   "execution_count": null,
   "metadata": {},
   "outputs": [],
   "source": [
    "print $chain;"
   ]
  },
  {
   "cell_type": "code",
   "execution_count": null,
   "metadata": {},
   "outputs": [],
   "source": [
    "print $chain->type->full_name;"
   ]
  },
  {
   "cell_type": "code",
   "execution_count": null,
   "metadata": {},
   "outputs": [],
   "source": [
    "print topaz::betti_numbers<GF2>($chain);"
   ]
  },
  {
   "cell_type": "code",
   "execution_count": null,
   "metadata": {},
   "outputs": [],
   "source": [
    "$hr = $h->PATCHWORK->realize(\"uniform\");"
   ]
  },
  {
   "cell_type": "code",
   "execution_count": null,
   "metadata": {},
   "outputs": [],
   "source": [
    "print $hr->HOMOLOGY;"
   ]
  },
  {
   "cell_type": "code",
   "execution_count": null,
   "metadata": {},
   "outputs": [],
   "source": []
  }
 ],
 "metadata": {
  "kernelspec": {
   "display_name": "polymake",
   "language": "polymake",
   "name": "polymake"
  },
  "language_info": {
   "codemirror_mode": "perl",
   "file_extension": ".pl",
   "mimetype": "text/x-polymake",
   "name": "polymake"
  }
 },
 "nbformat": 4,
 "nbformat_minor": 2
}
