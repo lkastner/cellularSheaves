{
 "cells": [
  {
   "cell_type": "code",
   "execution_count": null,
   "metadata": {},
   "outputs": [],
   "source": [
    "application \"tropical\";"
   ]
  },
  {
   "cell_type": "code",
   "execution_count": null,
   "metadata": {},
   "outputs": [],
   "source": [
    "sub harnack_curve_tmp {\n",
    "  my $n = shift;\n",
    "  my @monoms;\n",
    "  my @weights;\n",
    "  my @signs;\n",
    "  foreach my $i (0 .. $n) {\n",
    "    foreach my $j (0 .. $n-$i) {\n",
    "      push @weights, ($i*$j+$i*$i+$j*$j);\n",
    "      push @monoms, [$n-$i-$j, $i, $j];\n",
    "      push @signs, ($i*$j+$i+$j)%2;\n",
    "    }\n",
    "  }\n",
    "\n",
    "  my $m = new Matrix<Int>(\\@monoms);\n",
    "  my $c = new Vector<TropicalNumber<Min>>(\\@weights);\n",
    "  my $s = new Array<Bool>(\\@signs);\n",
    "  my $h = new Hypersurface<Min>(MONOMIALS=>$m, COEFFICIENTS=>$c);\n",
    "  $h->PATCHWORK(SIGNS=>$s);\n",
    "  return $h;\n",
    "}"
   ]
  },
  {
   "cell_type": "code",
   "execution_count": null,
   "metadata": {},
   "outputs": [],
   "source": [
    "$h = harnack_curve_tmp(5);"
   ]
  },
  {
   "cell_type": "code",
   "execution_count": null,
   "metadata": {},
   "outputs": [],
   "source": [
    "$h->properties;"
   ]
  },
  {
   "cell_type": "code",
   "execution_count": null,
   "metadata": {},
   "outputs": [],
   "source": [
    "$comp = $h->COMPACTIFICATION;"
   ]
  },
  {
   "cell_type": "code",
   "execution_count": null,
   "metadata": {},
   "outputs": [],
   "source": [
    "$rf = $h->PATCHWORK->REAL_FACETS;"
   ]
  },
  {
   "cell_type": "code",
   "execution_count": null,
   "metadata": {},
   "outputs": [],
   "source": [
    "print $rf->[0];"
   ]
  },
  {
   "cell_type": "code",
   "execution_count": null,
   "metadata": {},
   "outputs": [],
   "source": [
    "print $h->PATCHWORK->SIGNS;"
   ]
  },
  {
   "cell_type": "code",
   "execution_count": null,
   "metadata": {},
   "outputs": [],
   "source": [
    "print rows_labeled($h->MAXIMAL_POLYTOPES);"
   ]
  },
  {
   "cell_type": "code",
   "execution_count": null,
   "metadata": {},
   "outputs": [],
   "source": [
    "$decor = $comp->DECORATION;\n",
    "$facets = $h->MAXIMAL_POLYTOPES;\n",
    "$real_facets = $h->PATCHWORK->REAL_FACETS;\n",
    "$nm = new NodeMap<Directed, Set<Int>>($comp->ADJACENCY);\n",
    "foreach my $node (@{$comp->nodes_of_rank(2)}){\n",
    "    my $real = $decor->[$node]->realisation;\n",
    "    # Only works since the thing is pure\n",
    "    my $facetno = -1;\n",
    "    for(my $i=0; $i<$facets->rows; $i++){\n",
    "        if($facets->[$i] == $real){\n",
    "            $facetno = $i;\n",
    "            last;\n",
    "        }\n",
    "    }\n",
    "    print $node,\" \",$real,\" \",$facetno,\": \";\n",
    "\n",
    "    for(my $i = 0; $i<$real_facets->rows; $i++){\n",
    "        if($real_facets->[$i]->contains($facetno)){\n",
    "            print $i,\",\";\n",
    "            $nm->[$node] += $i;\n",
    "        }\n",
    "    }\n",
    "    print \"\\n\";\n",
    "    \n",
    "}"
   ]
  },
  {
   "cell_type": "code",
   "execution_count": null,
   "metadata": {},
   "outputs": [],
   "source": [
    "foreach my $node (@{$comp->nodes_of_rank(1)}){\n",
    "    # print $comp->ADJACENCY->out_adjacent_nodes($node),\"\\n\";\n",
    "    foreach my $parent (@{$comp->ADJACENCY->out_adjacent_nodes($node)}){\n",
    "        $nm->[$node] += $nm->[$parent];\n",
    "    }\n",
    "}\n",
    "foreach my $node (@{$comp->nodes_of_rank(0)}){\n",
    "    # print $comp->ADJACENCY->out_adjacent_nodes($node),\"\\n\";\n",
    "    foreach my $parent (@{$comp->ADJACENCY->out_adjacent_nodes($node)}){\n",
    "        $nm->[$node] += $nm->[$parent];\n",
    "    }\n",
    "}"
   ]
  },
  {
   "cell_type": "code",
   "execution_count": null,
   "metadata": {},
   "outputs": [],
   "source": [
    "$em = new EdgeMap<Directed, Matrix<GF2>>($comp->ADJACENCY);"
   ]
  },
  {
   "cell_type": "code",
   "execution_count": null,
   "metadata": {},
   "outputs": [],
   "source": [
    "sub make_matrix {\n",
    "    my($source, $target) = @_;\n",
    "    # print \"S: \",$source,\"T: \",$target,\"\\n\";\n",
    "    my $result = unit_matrix<GF2>($source->size());\n",
    "    my $remaps = new Set<Int>();\n",
    "    my $remapt = new Set<Int>();\n",
    "    my $i = 0;\n",
    "    foreach my $s (@$source){\n",
    "        $remaps += $i;\n",
    "        if($target->contains($s)){\n",
    "            $remapt += $i;\n",
    "        }\n",
    "        $i++;\n",
    "    }\n",
    "    return $result->minor($remapt, $remaps);\n",
    "}"
   ]
  },
  {
   "cell_type": "code",
   "execution_count": null,
   "metadata": {},
   "outputs": [],
   "source": [
    "for (my $e=entire(edges($comp->ADJACENCY)); $e; ++$e) {\n",
    "    $em->[$$e] = make_matrix($nm->[$e->from_node], $nm->[$e->to_node]);\n",
    "}"
   ]
  },
  {
   "cell_type": "code",
   "execution_count": null,
   "metadata": {},
   "outputs": [],
   "source": [
    "print $comp->TOP_NODE;"
   ]
  },
  {
   "cell_type": "code",
   "execution_count": null,
   "metadata": {},
   "outputs": [],
   "source": [
    "$top = $comp->TOP_NODE;\n",
    "foreach my $node (@{$comp->ADJACENCY->in_adjacent_nodes($top)}){\n",
    "    $em->edge($node, $top) = zero_matrix<GF2>($nm->[$node]->size(),0);\n",
    "}"
   ]
  },
  {
   "cell_type": "code",
   "execution_count": null,
   "metadata": {},
   "outputs": [],
   "source": [
    "$Polymake::User::Verbose::cpp = 1;\n",
    "$chain = fan::build_full_chain($comp, $comp->ORIENTATIONS, $em, true);"
   ]
  },
  {
   "cell_type": "code",
   "execution_count": null,
   "metadata": {},
   "outputs": [],
   "source": [
    "print $comp->ORIENTATIONS;"
   ]
  },
  {
   "cell_type": "code",
   "execution_count": null,
   "metadata": {},
   "outputs": [],
   "source": [
    "print $chain;"
   ]
  },
  {
   "cell_type": "code",
   "execution_count": null,
   "metadata": {},
   "outputs": [],
   "source": [
    "print $chain->type->full_name;"
   ]
  },
  {
   "cell_type": "code",
   "execution_count": null,
   "metadata": {},
   "outputs": [],
   "source": [
    "print topaz::betti_numbers<GF2>($chain);"
   ]
  },
  {
   "cell_type": "code",
   "execution_count": null,
   "metadata": {},
   "outputs": [],
   "source": [
    "$hr = $h->PATCHWORK->realize(\"uniform\");"
   ]
  },
  {
   "cell_type": "code",
   "execution_count": null,
   "metadata": {},
   "outputs": [],
   "source": [
    "print $hr->HOMOLOGY;"
   ]
  },
  {
   "cell_type": "markdown",
   "metadata": {},
   "source": [
    "# A larger example\n",
    "The previous examples had a relatively small dimension, so we could not study the effects of having different non-trivial sedentarities."
   ]
  },
  {
   "cell_type": "code",
   "execution_count": null,
   "metadata": {},
   "outputs": [],
   "source": [
    "$trop = new Hypersurface<Max>(POLYNOMIAL=>toTropicalPolynomial(\"max(a,b,c,d,e)\"));"
   ]
  },
  {
   "cell_type": "code",
   "execution_count": null,
   "metadata": {},
   "outputs": [],
   "source": [
    "print $trop->VERTICES;"
   ]
  },
  {
   "cell_type": "code",
   "execution_count": null,
   "metadata": {},
   "outputs": [],
   "source": [
    "print rows_labeled($trop->COMPACTIFICATION->DECORATION);"
   ]
  },
  {
   "cell_type": "code",
   "execution_count": null,
   "metadata": {},
   "outputs": [],
   "source": [
    "$p = $trop->PATCHWORK(SIGNS=>[1,1,1,1,1]);"
   ]
  },
  {
   "cell_type": "code",
   "execution_count": null,
   "metadata": {},
   "outputs": [],
   "source": [
    "print transpose($p->REAL_FACETS);"
   ]
  },
  {
   "cell_type": "code",
   "execution_count": null,
   "metadata": {},
   "outputs": [],
   "source": [
    "$v = new Matrix<Int>($trop->VERTICES);\n",
    "$v = new Matrix<GF2>($v);\n",
    "print $v;"
   ]
  },
  {
   "cell_type": "markdown",
   "metadata": {},
   "source": [
    "The rays of the tropical hypersurface should be the rays of the normal fan of the simplex. However we do not know where and in which order they appear. The following method will label the rays accordingly. It is just an auxiliary method for building the right projection maps to the boundary."
   ]
  },
  {
   "cell_type": "code",
   "execution_count": null,
   "metadata": {},
   "outputs": [],
   "source": [
    "sub relabel {\n",
    "    my($vert) = @_;\n",
    "    my $d = $vert->cols();\n",
    "    my $result = new Array<Int>($vert->rows());\n",
    "    for(my $i=0; $i<$vert->rows(); $i++){\n",
    "        if($vert->row($i)->[0] == 0){\n",
    "            my $v = $vert->row($i)->slice(sequence(2,$d-2));\n",
    "            for(my $j=0; $j<$d-2; $j++){\n",
    "                if($v == -unit_vector($d-2,$j)){\n",
    "                    # print \"Found: $i $j\\n\";\n",
    "                    $result->[$i] = $j;\n",
    "                    last;\n",
    "                }\n",
    "            }\n",
    "            if($v == ones_vector($d-2)){\n",
    "                $result->[$i] = -1;\n",
    "            }\n",
    "        }\n",
    "    }\n",
    "    return $result;\n",
    "}"
   ]
  },
  {
   "cell_type": "code",
   "execution_count": null,
   "metadata": {},
   "outputs": [],
   "source": [
    "print relabel($trop->VERTICES);"
   ]
  },
  {
   "cell_type": "markdown",
   "metadata": {},
   "source": [
    "There are two main cases for the sedentarity of a face: It can contain the all ones vector or not. For both cases we assemble projection and lifting matrices. The lifting is needed as we can build projections between faces with non-trivial sedentarity by going via the lifting to the parent face."
   ]
  },
  {
   "cell_type": "code",
   "execution_count": null,
   "metadata": {},
   "outputs": [],
   "source": [
    "sub get_gf2_projections {\n",
    "    my($h) = @_;\n",
    "    my $relabel = relabel($h->VERTICES);\n",
    "    my $d = $h->VERTICES->cols() - 2;\n",
    "    my $result = new Map<Set<Int>, Pair<Matrix<GF2>, Matrix<GF2>>>();\n",
    "    my $comp = $h->COMPACTIFICATION;\n",
    "    my $decor = $comp->DECORATION;\n",
    "    for(my $node = entire(nodes($comp->ADJACENCY)); $node; ++$node){\n",
    "        my $psed = $decor->[$$node]->sedentarity;\n",
    "        print $$node,\": $psed \";\n",
    "        my $sed = new Set<Int>();\n",
    "        foreach my $entry (@$psed){\n",
    "            $sed += $relabel->[$entry];\n",
    "        }\n",
    "        my ($projection, $lifting);\n",
    "        if($sed->contains(-1)){\n",
    "            my $first = 0;\n",
    "            while($sed->contains($first)){\n",
    "                $first++;\n",
    "            }\n",
    "            $first < $rays->rows() or die \"Could not find non-contained element\";\n",
    "            $projection = new Matrix<GF2>(unit_matrix<GF2>($d));\n",
    "            $projection->col($first) = ones_vector<GF2>($d);\n",
    "            $lifting = inv($projection);\n",
    "            $sed -= -1;\n",
    "            $sed += $first;\n",
    "            $projection = $projection->minor(~$sed, All);\n",
    "            $lifting = $lifting->minor(All, ~$sed);\n",
    "        } else {\n",
    "            $projection = unit_matrix<GF2>($d);\n",
    "            $lifting = unit_matrix<GF2>($d);\n",
    "            $projection = $projection->minor(~$sed, All);\n",
    "            $lifting = $lifting->minor(All, ~$sed);\n",
    "        }\n",
    "        my $prod = $projection * $lifting;\n",
    "        my $check = $prod == unit_matrix<GF2>($projection->rows);\n",
    "        my $vert = $h->VERTICES->minor($psed, sequence(2,$d));\n",
    "        $prod = $projection * transpose(new Matrix<GF2>(convert_to<Integer>($vert)));\n",
    "        $check &= $prod == zero_matrix<GF2>($prod->rows, $prod->cols);\n",
    "        print \"Check: $check\\n\";\n",
    "        if($check == 0){\n",
    "            print \"Proj:\\n\",$projection,\"\\n\";\n",
    "            print \"Vert:\\n\",$vert,\"\\n\";\n",
    "            print \"Prod:\\n\",$prod,\"\\n\";\n",
    "        }\n",
    "        $result->{$psed} = new Pair<Matrix<GF2>, Matrix<GF2>>($projection, $lifting);\n",
    "    }\n",
    "    return $result;\n",
    "}"
   ]
  },
  {
   "cell_type": "code",
   "execution_count": null,
   "metadata": {},
   "outputs": [],
   "source": [
    "print get_gf2_projections($trop);"
   ]
  },
  {
   "cell_type": "code",
   "execution_count": null,
   "metadata": {},
   "outputs": [],
   "source": [
    "print $trop->PATCHWORK->REAL_FACETS->rows;"
   ]
  },
  {
   "cell_type": "code",
   "execution_count": null,
   "metadata": {},
   "outputs": [],
   "source": [
    "print $trop->PATCHWORK->REAL_FACETS;"
   ]
  },
  {
   "cell_type": "code",
   "execution_count": null,
   "metadata": {},
   "outputs": [],
   "source": []
  }
 ],
 "metadata": {
  "kernelspec": {
   "display_name": "polymake",
   "language": "polymake",
   "name": "polymake"
  }
 },
 "nbformat": 4,
 "nbformat_minor": 2
}
