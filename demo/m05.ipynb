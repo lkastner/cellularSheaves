{
 "cells": [
  {
   "cell_type": "code",
   "execution_count": 29,
   "metadata": {},
   "outputs": [],
   "source": [
    "application \"fan\";"
   ]
  },
  {
   "cell_type": "code",
   "execution_count": 30,
   "metadata": {},
   "outputs": [],
   "source": [
    "$g = graph::complete(4);"
   ]
  },
  {
   "cell_type": "code",
   "execution_count": 31,
   "metadata": {},
   "outputs": [],
   "source": [
    "$m = matroid::matroid_from_graph($g);"
   ]
  },
  {
   "cell_type": "code",
   "execution_count": 32,
   "metadata": {},
   "outputs": [],
   "source": [
    "$t = tropical::matroid_fan<Max>($m);\n",
    "$t->VERTICES;"
   ]
  },
  {
   "cell_type": "code",
   "execution_count": 33,
   "metadata": {},
   "outputs": [],
   "source": [
    "$berg = new PolyhedralComplex($t);"
   ]
  },
  {
   "cell_type": "code",
   "execution_count": 34,
   "metadata": {},
   "outputs": [
    {
     "data": {
      "text/plain": [
       "1 0 0\n",
       "0 5 0\n",
       "0 0 1\n"
      ]
     },
     "execution_count": 34,
     "metadata": {},
     "output_type": "execute_result"
    }
   ],
   "source": [
    "@rows = ();\n",
    "for(my $i=0; $i<=$berg->DIM; $i++){\n",
    "    my $f = $berg->compact_fcosheaf($i);\n",
    "    my $d = build_full_chain($berg->COMPACTIFICATION, $berg->COMPACTIFICATION->ORIENTATIONS, $f->BLOCKS, false);\n",
    "    push @rows, new Vector<Int>(topaz::betti_numbers($d));\n",
    "}\n",
    "print new Matrix(\\@rows);"
   ]
  },
  {
   "cell_type": "code",
   "execution_count": null,
   "metadata": {},
   "outputs": [],
   "source": []
  }
 ],
 "metadata": {
  "kernelspec": {
   "display_name": "polymake-4.2",
   "language": "polymake",
   "name": "polymake"
  },
  "language_info": {
   "codemirror_mode": "perl",
   "file_extension": ".pl",
   "mimetype": "text/x-polymake",
   "name": "polymake"
  }
 },
 "nbformat": 4,
 "nbformat_minor": 4
}
