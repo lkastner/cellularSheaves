{
 "cells": [
  {
   "cell_type": "code",
   "execution_count": 1,
   "metadata": {},
   "outputs": [],
   "source": [
    "application \"fan\";"
   ]
  },
  {
   "cell_type": "code",
   "execution_count": 2,
   "metadata": {},
   "outputs": [],
   "source": [
    "$g = graph::complete(4);"
   ]
  },
  {
   "cell_type": "code",
   "execution_count": 3,
   "metadata": {},
   "outputs": [],
   "source": [
    "$m = matroid::matroid_from_graph($g);"
   ]
  },
  {
   "cell_type": "code",
   "execution_count": 4,
   "metadata": {},
   "outputs": [
    {
     "data": {
      "text/html": [
       "<details><summary><pre style=\"display:inline\"><small>Click here for additional output</small></pre></summary>\n",
       "<pre>\n",
       "polymake: used package TropLi\n",
       "  Algorithms for computation of bergman fans taken from the program \"TropLi\" by\n",
       "  Felipe Rincón\n",
       "  https://sites.google.com/site/feliper84/tropli\n",
       "  See also: Felipe Rincón, \"Computing tropical linear spaces\", J. Symbolic Comput. 51 (2013), 86-98\n",
       "\n",
       "</pre>\n",
       "</details>\n"
      ]
     },
     "metadata": {},
     "output_type": "display_data"
    }
   ],
   "source": [
    "$t = tropical::matroid_fan<Max>($m);\n",
    "$t->VERTICES;"
   ]
  },
  {
   "cell_type": "code",
   "execution_count": 5,
   "metadata": {},
   "outputs": [],
   "source": [
    "$berg = new PolyhedralComplex($t);"
   ]
  },
  {
   "cell_type": "code",
   "execution_count": 9,
   "metadata": {},
   "outputs": [
    {
     "data": {
      "text/plain": [
       "26"
      ]
     },
     "execution_count": 9,
     "metadata": {},
     "output_type": "execute_result"
    }
   ],
   "source": [
    "$bergComp = $berg->COMPACTIFICATION;\n",
    "print $bergComp->nodes_of_rank(1)->size;"
   ]
  },
  {
   "cell_type": "code",
   "execution_count": 21,
   "metadata": {},
   "outputs": [
    {
     "data": {
      "text/plain": [
       "1 26 40 15 1 \n",
       "1 11 25 15 1 "
      ]
     },
     "execution_count": 21,
     "metadata": {},
     "output_type": "execute_result"
    }
   ],
   "source": [
    "for(my $i=0; $i<=$bergComp->rank; $i++){\n",
    "    print $bergComp->nodes_of_rank($i)->size,\" \";\n",
    "}\n",
    "print \"\\n\";\n",
    "$bergHasse = $berg->HASSE_DIAGRAM;\n",
    "for(my $i=0; $i<=$bergHasse->rank; $i++){\n",
    "    print $bergHasse->nodes_of_rank($i)->size,\" \";\n",
    "}"
   ]
  },
  {
   "cell_type": "code",
   "execution_count": 34,
   "metadata": {},
   "outputs": [
    {
     "data": {
      "text/plain": [
       "1 0 0\n",
       "0 5 0\n",
       "0 0 1\n"
      ]
     },
     "execution_count": 34,
     "metadata": {},
     "output_type": "execute_result"
    }
   ],
   "source": [
    "@rows = ();\n",
    "for(my $i=0; $i<=$berg->DIM; $i++){\n",
    "    my $f = $berg->compact_fcosheaf($i);\n",
    "    my $d = build_full_chain($berg->COMPACTIFICATION, $berg->COMPACTIFICATION->ORIENTATIONS, $f->BLOCKS, false);\n",
    "    push @rows, new Vector<Int>(topaz::betti_numbers($d));\n",
    "}\n",
    "print new Matrix(\\@rows);"
   ]
  },
  {
   "cell_type": "code",
   "execution_count": null,
   "metadata": {},
   "outputs": [],
   "source": []
  }
 ],
 "metadata": {
  "kernelspec": {
   "display_name": "polymake-4.2",
   "language": "polymake",
   "name": "polymake"
  },
  "language_info": {
   "codemirror_mode": "perl",
   "file_extension": ".pl",
   "mimetype": "text/x-polymake",
   "name": "polymake"
  }
 },
 "nbformat": 4,
 "nbformat_minor": 4
}
