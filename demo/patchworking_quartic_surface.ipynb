{
 "cells": [
  {
   "cell_type": "code",
   "execution_count": null,
   "metadata": {},
   "outputs": [],
   "source": [
    "application \"tropical\";"
   ]
  },
  {
   "cell_type": "markdown",
   "metadata": {},
   "source": [
    "# A larger example\n",
    "The previous examples had a relatively small dimension, so we could not study the effects of having different non-trivial sedentarities."
   ]
  },
  {
   "cell_type": "markdown",
   "metadata": {},
   "source": [
    "Note that for this order of lattice points, the placing triangulation is unimodular and regular."
   ]
  },
  {
   "cell_type": "code",
   "execution_count": null,
   "metadata": {},
   "outputs": [],
   "source": [
    "$simp = polytope::simplex(3,4);\n",
    "$vert = new Matrix($simp->LATTICE_POINTS);\n",
    "$vert = new Matrix<Int>(map(new Vector<Int>(3-$_->[1]-$_->[2]-$_->[3],$_->[1],$_->[2],$_->[3]), @$vert));\n",
    "$lifted = new Matrix<Rational>(ones_vector<Int> | $vert);\n",
    "$tr = polytope::placing_triangulation($lifted);\n",
    "print $tr->type->full_name,\"\\n\";\n",
    "print $tr->size,\"\\n\";\n",
    "print $simp->LATTICE_VOLUME,\"\\n\";"
   ]
  },
  {
   "cell_type": "code",
   "execution_count": null,
   "metadata": {},
   "outputs": [],
   "source": [
    "$S = new fan::SubdivisionOfPoints(POINTS=>ones_vector<Int> | $vert, MAXIMAL_CELLS=>$tr);\n",
    "print rows_labeled($vert),\"\\n\";"
   ]
  },
  {
   "cell_type": "code",
   "execution_count": null,
   "metadata": {},
   "outputs": [],
   "source": [
    "print $S->REGULAR,\"\\n\";\n",
    "$v = primitive($S->WEIGHTS);\n",
    "$trop = new Hypersurface<Min>(MONOMIALS=>$vert, COEFFICIENTS=>$v);\n",
    "print $v;"
   ]
  },
  {
   "cell_type": "code",
   "execution_count": null,
   "metadata": {},
   "outputs": [],
   "source": [
    "print $trop->VERTICES;"
   ]
  },
  {
   "cell_type": "code",
   "execution_count": null,
   "metadata": {},
   "outputs": [],
   "source": [
    "print $trop->N_VERTICES;"
   ]
  },
  {
   "cell_type": "code",
   "execution_count": null,
   "metadata": {},
   "outputs": [],
   "source": [
    "print rows_labeled($trop->COMPACTIFICATION->DECORATION);"
   ]
  },
  {
   "cell_type": "code",
   "execution_count": null,
   "metadata": {},
   "outputs": [],
   "source": [
    "$p = $trop->PATCHWORK(SIGNS=>ones_vector<Int>($vert->rows));"
   ]
  },
  {
   "cell_type": "code",
   "execution_count": null,
   "metadata": {},
   "outputs": [],
   "source": [
    "# print transpose($p->REAL_FACETS);\n",
    "print $trop->VERTICES;"
   ]
  },
  {
   "cell_type": "markdown",
   "metadata": {},
   "source": [
    "The rays of the tropical hypersurface should be the rays of the normal fan of the simplex. However we do not know where and in which order they appear. The following method will label the rays accordingly. It is just an auxiliary method for building the right projection maps to the boundary."
   ]
  },
  {
   "cell_type": "code",
   "execution_count": null,
   "metadata": {},
   "outputs": [],
   "source": [
    "sub relabel {\n",
    "    my($vert) = @_;\n",
    "    my $d = $vert->cols();\n",
    "    my $result = new Array<Int>($vert->rows());\n",
    "    for(my $i=0; $i<$vert->rows(); $i++){\n",
    "        if($vert->row($i)->[0] == 0){\n",
    "            my $v = $vert->row($i)->slice(sequence(2,$d-2));\n",
    "            for(my $j=0; $j<$d-2; $j++){\n",
    "                if($v == -unit_vector($d-2,$j) || $v == unit_vector($d-2,$j)){\n",
    "                    # print \"Found: $i $j\\n\";\n",
    "                    $result->[$i] = $j;\n",
    "                    last;\n",
    "                }\n",
    "            }\n",
    "            if($v == ones_vector($d-2) || $v == -ones_vector($d-2)){\n",
    "                $result->[$i] = -1;\n",
    "            }\n",
    "        }\n",
    "    }\n",
    "    return $result;\n",
    "}"
   ]
  },
  {
   "cell_type": "code",
   "execution_count": null,
   "metadata": {},
   "outputs": [],
   "source": [
    "print relabel($trop->VERTICES);"
   ]
  },
  {
   "cell_type": "markdown",
   "metadata": {},
   "source": [
    "There are two main cases for the sedentarity of a face: It can contain the all ones vector or not. For both cases we assemble projection and lifting matrices. The lifting is needed as we can build projections between faces with non-trivial sedentarity by going via the lifting to the parent face."
   ]
  },
  {
   "cell_type": "code",
   "execution_count": null,
   "metadata": {},
   "outputs": [],
   "source": [
    "sub get_gf2_projections {\n",
    "    my($h) = @_;\n",
    "    my $relabel = relabel($h->VERTICES);\n",
    "    my $d = $h->VERTICES->cols() - 2;\n",
    "    my $result = new Map<Set<Int>, Pair<Matrix<GF2>, Matrix<GF2>>>();\n",
    "    my $comp = $h->COMPACTIFICATION;\n",
    "    my $decor = $comp->DECORATION;\n",
    "    for(my $node = entire(nodes($comp->ADJACENCY)); $node; ++$node){\n",
    "        my $psed = $decor->[$$node]->sedentarity;\n",
    "        print $$node,\": $psed \";\n",
    "        my $sed = new Set<Int>();\n",
    "        foreach my $entry (@$psed){\n",
    "            $sed += $relabel->[$entry];\n",
    "        }\n",
    "        my ($projection, $lifting);\n",
    "        if($sed->contains(-1)){\n",
    "            my $first = 0;\n",
    "            while($sed->contains($first)){\n",
    "                $first++;\n",
    "            }\n",
    "            $first < $h->N_RAYS or die \"Could not find non-contained element\";\n",
    "            $projection = new Matrix<GF2>(unit_matrix<GF2>($d));\n",
    "            $projection->col($first) = ones_vector<GF2>($d);\n",
    "            $lifting = inv($projection);\n",
    "            $sed -= -1;\n",
    "            $sed += $first;\n",
    "            $projection = $projection->minor(~$sed, All);\n",
    "            $lifting = $lifting->minor(All, ~$sed);\n",
    "        } else {\n",
    "            $projection = unit_matrix<GF2>($d);\n",
    "            $lifting = unit_matrix<GF2>($d);\n",
    "            $projection = $projection->minor(~$sed, All);\n",
    "            $lifting = $lifting->minor(All, ~$sed);\n",
    "        }\n",
    "        my $prod = $projection * $lifting;\n",
    "        my $check = $prod == unit_matrix<GF2>($projection->rows);\n",
    "        my $vert = $h->VERTICES->minor($psed, sequence(2,$d));\n",
    "        $prod = $projection * transpose(new Matrix<GF2>(convert_to<Integer>($vert)));\n",
    "        $check &= $prod == zero_matrix<GF2>($prod->rows, $prod->cols);\n",
    "        print \"Check: $check\\n\";\n",
    "        if($check == 0){\n",
    "            print \"Proj:\\n\",$projection,\"\\n\";\n",
    "            print \"Vert:\\n\",$vert,\"\\n\";\n",
    "            print \"Prod:\\n\",$prod,\"\\n\";\n",
    "        }\n",
    "        $result->{$psed} = new Pair<Matrix<GF2>, Matrix<GF2>>($projection, $lifting);\n",
    "    }\n",
    "    return $result;\n",
    "}"
   ]
  },
  {
   "cell_type": "code",
   "execution_count": null,
   "metadata": {},
   "outputs": [],
   "source": [
    "$projlift = get_gf2_projections($trop);"
   ]
  },
  {
   "cell_type": "code",
   "execution_count": null,
   "metadata": {},
   "outputs": [],
   "source": [
    "print $trop->PATCHWORK->REAL_FACETS->rows;"
   ]
  },
  {
   "cell_type": "code",
   "execution_count": null,
   "metadata": {},
   "outputs": [],
   "source": [
    "print $trop->PATCHWORK->REAL_FACETS;"
   ]
  },
  {
   "cell_type": "markdown",
   "metadata": {},
   "source": [
    "The following method converts a number to a vector in GF2 corresponding to it's binary representation."
   ]
  },
  {
   "cell_type": "code",
   "execution_count": null,
   "metadata": {},
   "outputs": [],
   "source": [
    "sub number_to_gf2vector {\n",
    "    my($length, $n) = @_;\n",
    "    my $result = new Vector<GF2>($length);\n",
    "    for(my $i=0; $i<$length; $i++){\n",
    "        $result->[$i] = $n % 2;\n",
    "        $n -= $n%2;\n",
    "        $n /= 2;\n",
    "    }\n",
    "    $n == 0 or die \"Incomplete conversion\";\n",
    "    return $result;\n",
    "}"
   ]
  },
  {
   "cell_type": "markdown",
   "metadata": {},
   "source": [
    "Using this method we can collect the elements of the affine GF2-spaces attached to every facet."
   ]
  },
  {
   "cell_type": "code",
   "execution_count": null,
   "metadata": {},
   "outputs": [],
   "source": [
    "$comp = $trop->COMPACTIFICATION;\n",
    "$decor = $comp->DECORATION;\n",
    "$facets = $trop->MAXIMAL_POLYTOPES;\n",
    "$real_facets = $trop->PATCHWORK->REAL_FACETS;\n",
    "$nm = new NodeMap<Directed, HashSet<Vector<GF2>>>($comp->ADJACENCY);\n",
    "foreach my $node (@{$comp->nodes_of_rank($trop->DIM+1)}){\n",
    "    my $real = $decor->[$node]->realisation;\n",
    "    # Only works since the thing is pure\n",
    "    my $facetno = -1;\n",
    "    for(my $i=0; $i<$facets->rows; $i++){\n",
    "        if($facets->[$i] == $real){\n",
    "            $facetno = $i;\n",
    "            last;\n",
    "        }\n",
    "    }\n",
    "    print $node,\" \",$real,\" \",$facetno,\": \";\n",
    "\n",
    "    for(my $i = 0; $i<$real_facets->rows; $i++){\n",
    "        if($real_facets->[$i]->contains($facetno)){\n",
    "            print $i,\",\";\n",
    "            $nm->[$node] += number_to_gf2vector($trop->DIM+1, $i);\n",
    "        }\n",
    "    }\n",
    "    print \"\\n\";\n",
    "    \n",
    "}"
   ]
  },
  {
   "cell_type": "markdown",
   "metadata": {},
   "source": [
    "Now we can propagate these spaces downwards in the Hasse diagram. We need to take boundary effects given by the sedentarity into account. For an edge corresponding to a face relation of two faces with non-trivial sedentarity we proceed by first lifting and then projecting, which corresponds to the canonical projection between spaces."
   ]
  },
  {
   "cell_type": "code",
   "execution_count": null,
   "metadata": {},
   "outputs": [],
   "source": [
    "for(my $i = $trop->DIM; $i>0; $i--){\n",
    "    foreach my $node (@{$comp->nodes_of_rank($i)}){\n",
    "        my $sed = $decor->[$node]->sedentarity;\n",
    "        foreach my $parent (@{$comp->ADJACENCY->out_adjacent_nodes($node)}){\n",
    "            my $psed = $decor->[$parent]->sedentarity;\n",
    "            my $lift = $projlift->{$psed}->second;\n",
    "            my $proj = $projlift->{$sed}->first;\n",
    "            my $transport = $proj * $lift;\n",
    "            foreach my $v (@{$nm->[$parent]}){\n",
    "                if($transport->cols != $v->dim){\n",
    "                    print $transport,\"\\n\",$v,\"\\n\";\n",
    "                    print \"Node: $node, parent: $parent\\n\";\n",
    "                    die \"Wrong num of cols.\";\n",
    "                }\n",
    "                $nm->[$node] += $transport * $v;\n",
    "            }\n",
    "            # $nm->[$node] += new HashSet<Vector<GF2>>(map($transport * $_, @{$nm->[$parent]}));\n",
    "        }\n",
    "    }\n",
    "}"
   ]
  },
  {
   "cell_type": "code",
   "execution_count": null,
   "metadata": {},
   "outputs": [],
   "source": [
    "print $comp->TOP_NODE,\" \",$comp->BOTTOM_NODE,\"\\n\";\n",
    "print $decor->[0],\"\\n\";\n",
    "print $nm;"
   ]
  },
  {
   "cell_type": "markdown",
   "metadata": {},
   "source": [
    "Now every node in the Hasse diagram is equipped with the index set of a basis of the corresponding GF2-vectorspace. The canonical maps on the index sets give rise to maps of the vector spaces as well. We collect these in an `EdgeMap` mapping every edge of the Hasse diagram to a matrix. This is the same as a cellular sheaf."
   ]
  },
  {
   "cell_type": "code",
   "execution_count": null,
   "metadata": {},
   "outputs": [],
   "source": [
    "$em = new EdgeMap<Directed, Matrix<GF2>>($comp->ADJACENCY);"
   ]
  },
  {
   "cell_type": "markdown",
   "metadata": {},
   "source": [
    "When building the matrix for one edge we again need to take the sedentarity into account. We do this in the same way as before."
   ]
  },
  {
   "cell_type": "code",
   "execution_count": null,
   "metadata": {},
   "outputs": [],
   "source": [
    "sub make_matrix {\n",
    "    my($edge, $comp, $bases) = @_;\n",
    "    my $source = $edge->to_node;\n",
    "    my $target = $edge->from_node;\n",
    "    my $decor = $comp->DECORATION;\n",
    "    my $sed = $decor->[$target]->sedentarity;\n",
    "    my $psed = $decor->[$source]->sedentarity;\n",
    "    # print \"$sed - $psed\\n\";\n",
    "    my $lift = $projlift->{$psed}->second;\n",
    "    my $proj = $projlift->{$sed}->first;\n",
    "    my $transport = $proj * $lift;\n",
    "    # print \"Transport:\\n\",$transport;\n",
    "    # print \"S: \",$source,\"T: \",$target,\"\\n\";\n",
    "    my $result = new Matrix<GF2>($bases->[$target]->size, $bases->[$source]->size);\n",
    "    my $i = 0;\n",
    "    foreach my $sv (@{$bases->[$source]}) {\n",
    "        # print $tv,\"\\n\";\n",
    "        my $tsv = $transport * $sv;\n",
    "        my $j = 0;\n",
    "        foreach my $tv (@{$bases->[$target]}) {\n",
    "            if($tsv == $tv){\n",
    "                $result->elem($j, $i) = 1\n",
    "            }\n",
    "            $j++;\n",
    "        }\n",
    "        $i++;\n",
    "    }\n",
    "    \n",
    "    return $result;\n",
    "}"
   ]
  },
  {
   "cell_type": "code",
   "execution_count": null,
   "metadata": {},
   "outputs": [],
   "source": [
    "for (my $e=entire(edges($comp->ADJACENCY)); $e; ++$e) {\n",
    "    $em->[$$e] = make_matrix($e, $comp, $nm);\n",
    "}"
   ]
  },
  {
   "cell_type": "markdown",
   "metadata": {},
   "source": [
    "For the top node we just create artificial zero matrices of the right dimensions."
   ]
  },
  {
   "cell_type": "code",
   "execution_count": null,
   "metadata": {},
   "outputs": [],
   "source": [
    "$top = $comp->TOP_NODE;\n",
    "foreach my $node (@{$comp->ADJACENCY->in_adjacent_nodes($top)}){\n",
    "    $em->edge($node, $top) = zero_matrix<GF2>($nm->[$node]->size(),0);\n",
    "}"
   ]
  },
  {
   "cell_type": "markdown",
   "metadata": {},
   "source": [
    "Now we can assemble the associated chain complex from the cellular sheaf."
   ]
  },
  {
   "cell_type": "code",
   "execution_count": null,
   "metadata": {},
   "outputs": [],
   "source": [
    "$chain = fan::build_full_chain($comp, $comp->ORIENTATIONS, $em, true);"
   ]
  },
  {
   "cell_type": "code",
   "execution_count": null,
   "metadata": {},
   "outputs": [],
   "source": [
    "print $chain->type->full_name;"
   ]
  },
  {
   "cell_type": "code",
   "execution_count": null,
   "metadata": {},
   "outputs": [],
   "source": [
    "print topaz::betti_numbers<GF2>($chain);"
   ]
  },
  {
   "cell_type": "code",
   "execution_count": null,
   "metadata": {},
   "outputs": [],
   "source": []
  }
 ],
 "metadata": {
  "kernelspec": {
   "display_name": "polymake",
   "language": "polymake",
   "name": "polymake"
  },
  "language_info": {
   "codemirror_mode": "perl",
   "file_extension": ".pl",
   "mimetype": "text/x-polymake",
   "name": "polymake"
  }
 },
 "nbformat": 4,
 "nbformat_minor": 2
}
