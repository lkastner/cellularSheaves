{
 "cells": [
  {
   "cell_type": "code",
   "execution_count": null,
   "metadata": {},
   "outputs": [],
   "source": [
    "application \"fan\";\n",
    "use application \"matroid\";"
   ]
  },
  {
   "cell_type": "markdown",
   "metadata": {},
   "source": [
    "# Cellular (co-)sheaves"
   ]
  },
  {
   "cell_type": "markdown",
   "metadata": {},
   "source": [
    "A cellular (co-)sheaf on a polyhedral complex $PC$ consists of the following data:\n",
    "\n",
    "- A vector space $V(P)$ for every polyhedron of $P\\in PC$\n",
    "- A morphism $V(P)\\gets V(Q)$ for every face relation $P\\le Q\\in PC$, or $V(P)\\to V(Q)$ for co-sheaves. \n",
    "\n",
    "The have to be chosen in a way such that all diagrams commute.\n",
    "\n",
    "In `polymake` this is realized as an `EdgeMap<Directed, Matrix>` on the Hasse diagram of the polyhedral complex $PC$. The vector spaces are not stored at all, since only their dimension is relevant. Instead just the morphisms are collected, and only for codimension 1 face relations.\n",
    "\n",
    "We will illustrate this for the example of $PC$ being a square."
   ]
  },
  {
   "cell_type": "code",
   "execution_count": null,
   "metadata": {},
   "outputs": [],
   "source": [
    "$pc = new PolyhedralComplex(check_fan_objects(new Cone(cube(2))));\n",
    "print $pc->HASSE_DIAGRAM->ADJACENCY;"
   ]
  },
  {
   "cell_type": "markdown",
   "metadata": {},
   "source": [
    "We provide several standard constructions, such that one does not have to construct a cellular (co-)sheaf from scratch. One example are the so-called $w$-sheaves, where the vector space associated to a face is the space orthogonal to its affine hull. The $w$-sheaves take an integer indicating which wedge power of the vector spaces should be considered. We will print the matrix of the vector space morphism for every edge in the Hasse diagram, along with auxiliary information for better understanding."
   ]
  },
  {
   "cell_type": "code",
   "execution_count": null,
   "metadata": {},
   "outputs": [],
   "source": [
    "$G = $pc->HASSE_DIAGRAM->ADJACENCY;\n",
    "$w1 = $pc->wsheaf(1);\n",
    "$decor = $pc->HASSE_DIAGRAM->DECORATION;\n",
    "for(my $edge = entire(edges($pc->HASSE_DIAGRAM->ADJACENCY)); $edge; ++$edge){\n",
    "    print \"Edge: \",$edge->from_node,\" -- \",$edge->to_node,\"\\n\";\n",
    "    my $source = $decor->[$edge->from_node]->face;\n",
    "    my $target = $decor->[$edge->to_node]->face;\n",
    "    print \"corresponds to the face relation \",$source,\" -- \",$target,\"\\n\";\n",
    "    my $block = $w1->BLOCKS->[$$edge];\n",
    "    print \"block has \",$block->rows,\" rows and \",$block->cols,\" columns\\n\";\n",
    "    print $block,\"\\n\";\n",
    "}"
   ]
  },
  {
   "cell_type": "markdown",
   "metadata": {},
   "source": [
    "Note that `polymake` inserts an artificial top node for bureaucratic reasons, given as `{-1}`."
   ]
  },
  {
   "cell_type": "markdown",
   "metadata": {},
   "source": [
    "# 3-dim cube"
   ]
  },
  {
   "cell_type": "markdown",
   "metadata": {},
   "source": [
    "For a lattice polytope $\\Delta$ and $X$ the toric variety associated to its normal fan there is a result by Danilov that \n",
    "$$ H^q(X;\\Omega^p) \\cong H^q(\\Delta;W^p) \\otimes_{\\mathbb{R}} \\mathbb{C} $$\n",
    "\n",
    "For a simple $\\Delta$ and $X$ smooth $H^q(X,\\Omega^p) \\cong H^{p,q}(X)$ is the Hodge decomposition of the cohomology of $X$."
   ]
  },
  {
   "cell_type": "code",
   "execution_count": null,
   "metadata": {},
   "outputs": [],
   "source": [
    "$pc = new PolyhedralComplex(check_fan_objects(new Cone(cube(3))));\n",
    "for(my $i=0; $i<4; $i++){\n",
    "   my $w = $pc->wcosheaf($i);\n",
    "   my $cs = $pc->borel_moore_complex($w);\n",
    "   print topaz::betti_numbers($cs),\"\\n\";\n",
    "}"
   ]
  },
  {
   "cell_type": "markdown",
   "metadata": {},
   "source": [
    "## Hodge numbers\n",
    "The command `hodge_numbers` will compute the Hodge numbers in certain settings. However, for something compact, we only get back the betti numbers of the $f$-cosheaves."
   ]
  },
  {
   "cell_type": "code",
   "execution_count": null,
   "metadata": {},
   "outputs": [],
   "source": [
    "print hodge_numbers($pc);"
   ]
  },
  {
   "cell_type": "markdown",
   "metadata": {},
   "source": [
    "# Valuated matroids"
   ]
  },
  {
   "cell_type": "code",
   "execution_count": null,
   "metadata": {},
   "outputs": [],
   "source": [
    "$v = [0,0,3,1,2,1,0,1,0,2,2,0,3,0,4,1,2,2,0,0];\n",
    "$val_matroid = new matroid::ValuatedMatroid<Min>(BASES=>matroid::uniform_matroid(3,6)->BASES,VALUATION_ON_BASES=>$v,N_ELEMENTS=>6);\n",
    "$tls = tropical::linear_space($val_matroid);\n",
    "# Compensate for errors\n",
    "$tls = new PolyhedralComplex(VERTICES=>$tls->VERTICES, MAXIMAL_POLYTOPES=>$tls->MAXIMAL_POLYTOPES);\n",
    "\n",
    "@result1 = ();\n",
    "@result2 = ();\n",
    "for(my $i=0;$i<3;$i++){\n",
    "   my $fi = $tls->fcosheaf($i);\n",
    "   my $si=$tls->usual_chain_complex($fi);\n",
    "   my $bmi=$tls->borel_moore_complex($fi);\n",
    "   push @result1, topaz::betti_numbers($si);\n",
    "   push @result2, topaz::betti_numbers($bmi);\n",
    "}  \n",
    "print join(\"\\n\", @result1),\"\\n\\n\";\n"
   ]
  },
  {
   "cell_type": "markdown",
   "metadata": {},
   "source": [
    "# Tropical line"
   ]
  },
  {
   "cell_type": "code",
   "execution_count": null,
   "metadata": {},
   "outputs": [],
   "source": [
    "$f = tropical::toTropicalPolynomial(\"max(0,x,y,z)\"); \n",
    "$div = tropical::divisor( (tropical::projective_torus<Max>(3)) , tropical::rational_fct_from_affine_numerator($f)); \n",
    "$f0 = $div->fcosheaf(0); \n",
    "$f1 = $div->fcosheaf(1); \n",
    "$f2 = $div->fcosheaf(2);\n",
    "$f3 = $div->fcosheaf(3); \n",
    "$bm0 = $div->borel_moore_complex($f0); \n",
    "$bm1 = $div->borel_moore_complex($f1); \n",
    "$bm2 = $div->borel_moore_complex($f2); \n",
    "$bm3 = $div->borel_moore_complex($f3); \n",
    "print topaz::betti_numbers($bm0),\"\\n\";\n",
    "print topaz::betti_numbers($bm1),\"\\n\";\n",
    "print topaz::betti_numbers($bm2),\"\\n\";\n",
    "print topaz::betti_numbers($bm3),\"\\n\";"
   ]
  },
  {
   "cell_type": "code",
   "execution_count": null,
   "metadata": {},
   "outputs": [],
   "source": [
    "$us0 = $div->usual_chain_complex($f0);\n",
    "$us1 = $div->usual_chain_complex($f1); \n",
    "$us2 = $div->usual_chain_complex($f2);\n",
    "$us3 = $div->usual_chain_complex($f3); \n",
    "print topaz::betti_numbers($us0),\"\\n\";\n",
    "print topaz::betti_numbers($us1),\"\\n\";\n",
    "print topaz::betti_numbers($us2),\"\\n\";\n",
    "print topaz::betti_numbers($us3),\"\\n\";"
   ]
  },
  {
   "cell_type": "markdown",
   "metadata": {},
   "source": [
    "# Tropical K3 surface"
   ]
  },
  {
   "cell_type": "code",
   "execution_count": null,
   "metadata": {},
   "outputs": [],
   "source": [
    "$f = tropical::toTropicalPolynomial(\"max(0,x,y,z, 2*x - 2, 2*y-2, 2*z-2, x+y-1, x+z-1, y+z-1, 3*x-6, 3*y-6, 3*z-6, 2*x+y - 4,2*y + x- 4, 2*x + z - 4, 2*z+x - 4, 2*y + z- 4, 2*z+y - 4, x+y+z +1, 4*x -12, 4*y-12, 4*z-12,  3*x+y -9,3*y + x- 9, 3*x + z - 9, 3*z+x - 9, 3*y + z- 9, 3*z+y - 9, 2*x + 2*y - 8, 2*x + 2*z - 8, 2*y + 2*z - 8,2*x + y +z - 7, x + 2*z +y - 7, 2*y + z + x- 7  )\");\n",
    "print $f;"
   ]
  },
  {
   "cell_type": "code",
   "execution_count": null,
   "metadata": {},
   "outputs": [],
   "source": [
    "$k3 = tropical::divisor( (tropical::projective_torus<Max>(3)) , tropical::rational_fct_from_affine_numerator($f));"
   ]
  },
  {
   "cell_type": "code",
   "execution_count": null,
   "metadata": {},
   "outputs": [],
   "source": [
    "$f0 = $k3->fcosheaf(0);\n",
    "$f1 = $k3->fcosheaf(1);\n",
    "$f2 = $k3->fcosheaf(2);"
   ]
  },
  {
   "cell_type": "code",
   "execution_count": null,
   "metadata": {},
   "outputs": [],
   "source": [
    "$us0 = $k3->usual_chain_complex($f0);\n",
    "$us1 = $k3->usual_chain_complex($f1);\n",
    "$us2 = $k3->usual_chain_complex($f2);\n",
    "print topaz::betti_numbers($us0),\"\\n\";\n",
    "print topaz::betti_numbers($us1),\"\\n\";\n",
    "print topaz::betti_numbers($us2),\"\\n\";"
   ]
  },
  {
   "cell_type": "code",
   "execution_count": null,
   "metadata": {},
   "outputs": [],
   "source": [
    "$bm0 = $k3->borel_moore_complex($f0);\n",
    "$bm1 = $k3->borel_moore_complex($f1);\n",
    "$bm2 = $k3->borel_moore_complex($f2);\n",
    "print topaz::betti_numbers($bm0),\"\\n\";\n",
    "print topaz::betti_numbers($bm1),\"\\n\";\n",
    "print topaz::betti_numbers($bm2),\"\\n\";"
   ]
  },
  {
   "cell_type": "markdown",
   "metadata": {},
   "source": [
    "## Hodge numbers"
   ]
  },
  {
   "cell_type": "code",
   "execution_count": null,
   "metadata": {},
   "outputs": [],
   "source": [
    "print hodge_numbers($k3);"
   ]
  },
  {
   "cell_type": "code",
   "execution_count": null,
   "metadata": {},
   "outputs": [],
   "source": []
  }
 ],
 "metadata": {
  "kernelspec": {
   "display_name": "polymake",
   "language": "polymake",
   "name": "polymake"
  },
  "language_info": {
   "codemirror_mode": "perl",
   "file_extension": ".pl",
   "mimetype": "text/x-polymake",
   "name": "polymake"
  }
 },
 "nbformat": 4,
 "nbformat_minor": 2
}
