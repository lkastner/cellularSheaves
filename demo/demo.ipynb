{
 "cells": [
  {
   "cell_type": "code",
   "execution_count": null,
   "metadata": {},
   "outputs": [],
   "source": [
    "application \"fan\";\n",
    "use application \"matroid\";"
   ]
  },
  {
   "cell_type": "markdown",
   "metadata": {},
   "source": [
    "# 3-dim cube"
   ]
  },
  {
   "cell_type": "code",
   "execution_count": null,
   "metadata": {},
   "outputs": [],
   "source": [
    "$pc = new PolyhedralComplex(check_fan_objects(new Cone(cube(3))));\n",
    "for(my $i=0; $i<4; $i++){\n",
    "   my $w = $pc->wcosheaf($i);\n",
    "   my $cs = $pc->borel_moore_complex($w);\n",
    "   print topaz::betti_numbers($cs),\"\\n\";\n",
    "}"
   ]
  },
  {
   "cell_type": "markdown",
   "metadata": {},
   "source": [
    "# Valuated matroids"
   ]
  },
  {
   "cell_type": "code",
   "execution_count": null,
   "metadata": {},
   "outputs": [],
   "source": [
    "$v = [0,0,3,1,2,1,0,1,0,2,2,0,3,0,4,1,2,2,0,0];\n",
    "$val_matroid = new matroid::ValuatedMatroid<Min>(BASES=>matroid::uniform_matroid(3,6)->BASES,VALUATION_ON_BASES=>$v,N_ELEMENTS=>6);\n",
    "$tls = tropical::linear_space($val_matroid);\n",
    "# Compensate for errors\n",
    "$tls = new PolyhedralComplex(VERTICES=>$tls->VERTICES, MAXIMAL_POLYTOPES=>$tls->MAXIMAL_POLYTOPES);\n",
    "\n",
    "@result1 = ();\n",
    "@result2 = ();\n",
    "for(my $i=0;$i<3;$i++){\n",
    "   my $fi = $tls->fcosheaf($i);\n",
    "   my $si=$tls->usual_chain_complex($fi);\n",
    "   my $bmi=$tls->borel_moore_complex($fi);\n",
    "   push @result1, topaz::betti_numbers($si);\n",
    "   push @result2, topaz::betti_numbers($bmi);\n",
    "}  \n",
    "print join(\"\\n\", @result1),\"\\n\\n\";\n"
   ]
  },
  {
   "cell_type": "markdown",
   "metadata": {},
   "source": [
    "# Tropical line"
   ]
  },
  {
   "cell_type": "code",
   "execution_count": null,
   "metadata": {},
   "outputs": [],
   "source": [
    "$f = tropical::toTropicalPolynomial(\"max(0,x,y,z)\"); \n",
    "$div = tropical::divisor( (tropical::projective_torus<Max>(3)) , tropical::rational_fct_from_affine_numerator($f)); \n",
    "$f0 = $div->fcosheaf(0); \n",
    "$f1 = $div->fcosheaf(1); \n",
    "$f2 = $div->fcosheaf(2);\n",
    "$f3 = $div->fcosheaf(3); \n",
    "$bm0 = $div->borel_moore_complex($f0); \n",
    "$bm1 = $div->borel_moore_complex($f1); \n",
    "$bm2 = $div->borel_moore_complex($f2); \n",
    "$bm3 = $div->borel_moore_complex($f3); \n",
    "print topaz::betti_numbers($bm0),\"\\n\";\n",
    "print topaz::betti_numbers($bm1),\"\\n\";\n",
    "print topaz::betti_numbers($bm2),\"\\n\";\n",
    "print topaz::betti_numbers($bm3),\"\\n\";"
   ]
  },
  {
   "cell_type": "code",
   "execution_count": null,
   "metadata": {},
   "outputs": [],
   "source": [
    "$us0 = $div->usual_chain_complex($f0);\n",
    "$us1 = $div->usual_chain_complex($f1); \n",
    "$us2 = $div->usual_chain_complex($f2);\n",
    "$us3 = $div->usual_chain_complex($f3); \n",
    "print topaz::betti_numbers($us0),\"\\n\";\n",
    "print topaz::betti_numbers($us1),\"\\n\";\n",
    "print topaz::betti_numbers($us2),\"\\n\";\n",
    "print topaz::betti_numbers($us3),\"\\n\";"
   ]
  },
  {
   "cell_type": "markdown",
   "metadata": {},
   "source": [
    "# Tropical K3 surface"
   ]
  },
  {
   "cell_type": "code",
   "execution_count": null,
   "metadata": {},
   "outputs": [],
   "source": [
    "$f = tropical::toTropicalPolynomial(\"max(0,x,y,z, 2*x - 2, 2*y-2, 2*z-2, x+y-1, x+z-1, y+z-1, 3*x-6, 3*y-6, 3*z-6, 2*x+y - 4,2*y + x- 4, 2*x + z - 4, 2*z+x - 4, 2*y + z- 4, 2*z+y - 4, x+y+z +1, 4*x -12, 4*y-12, 4*z-12,  3*x+y -9,3*y + x- 9, 3*x + z - 9, 3*z+x - 9, 3*y + z- 9, 3*z+y - 9, 2*x + 2*y - 8, 2*x + 2*z - 8, 2*y + 2*z - 8,2*x + y +z - 7, x + 2*z +y - 7, 2*y + z + x- 7  )\");\n",
    "print $f;"
   ]
  },
  {
   "cell_type": "code",
   "execution_count": null,
   "metadata": {},
   "outputs": [],
   "source": [
    "$k3 = tropical::divisor( (tropical::projective_torus<Max>(3)) , tropical::rational_fct_from_affine_numerator($f));"
   ]
  },
  {
   "cell_type": "code",
   "execution_count": null,
   "metadata": {},
   "outputs": [],
   "source": [
    "$f0 = $k3->fcosheaf(0);\n",
    "$f1 = $k3->fcosheaf(1);\n",
    "$f2 = $k3->fcosheaf(2);"
   ]
  },
  {
   "cell_type": "code",
   "execution_count": null,
   "metadata": {},
   "outputs": [],
   "source": [
    "$us0 = $k3->usual_chain_complex($f0);\n",
    "$us1 = $k3->usual_chain_complex($f1);\n",
    "$us2 = $k3->usual_chain_complex($f2);\n",
    "print topaz::betti_numbers($us0),\"\\n\";\n",
    "print topaz::betti_numbers($us1),\"\\n\";\n",
    "print topaz::betti_numbers($us2),\"\\n\";"
   ]
  },
  {
   "cell_type": "code",
   "execution_count": null,
   "metadata": {},
   "outputs": [],
   "source": [
    "$bm0 = $k3->borel_moore_complex($f0);\n",
    "$bm1 = $k3->borel_moore_complex($f1);\n",
    "$bm2 = $k3->borel_moore_complex($f2);\n",
    "print topaz::betti_numbers($bm0),\"\\n\";\n",
    "print topaz::betti_numbers($bm1),\"\\n\";\n",
    "print topaz::betti_numbers($bm2),\"\\n\";"
   ]
  },
  {
   "cell_type": "markdown",
   "metadata": {},
   "source": [
    "## Hodge numbers"
   ]
  },
  {
   "cell_type": "code",
   "execution_count": null,
   "metadata": {},
   "outputs": [],
   "source": [
    "for(my $i=0; $i<3; $i++){\n",
    "   my $fi = $k3->compact_fcosheaf($i); \n",
    "   my $di = new topaz::ChainComplex<Matrix<Rational>>(build_full_chain($k3->COMPACTIFICATION, $k3->COMPACTIFICATION->ORIENTATIONS, $fi, false));\n",
    "   my $betti = topaz::betti_numbers($di);\n",
    "   print $betti,\"\\n\";\n",
    "}"
   ]
  },
  {
   "cell_type": "code",
   "execution_count": null,
   "metadata": {},
   "outputs": [],
   "source": []
  }
 ],
 "metadata": {
  "kernelspec": {
   "display_name": "polymake",
   "language": "polymake",
   "name": "polymake"
  },
  "language_info": {
   "codemirror_mode": "perl",
   "file_extension": ".pl",
   "mimetype": "text/x-polymake",
   "name": "polymake"
  }
 },
 "nbformat": 4,
 "nbformat_minor": 2
}
